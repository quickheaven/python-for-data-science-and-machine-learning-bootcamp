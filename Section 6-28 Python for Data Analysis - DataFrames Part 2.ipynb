{
 "cells":[
  {
   "cell_type":"markdown",
   "source":[
    "# Pandas - DataFrames"
   ],
   "attachments":{
    
   },
   "metadata":{
    "datalore":{
     "node_id":"s42DmSBrvFhbv2nAbfOcAB",
     "type":"MD",
     "hide_input_from_viewers":true,
     "hide_output_from_viewers":true
    }
   }
  },
  {
   "cell_type":"code",
   "source":[
    "import numpy as np\n",
    "import pandas as pd"
   ],
   "execution_count":1,
   "outputs":[
    
   ],
   "metadata":{
    "datalore":{
     "node_id":"87zppGm1s4KoIKbiLn3COg",
     "type":"CODE",
     "hide_input_from_viewers":true,
     "hide_output_from_viewers":true
    }
   }
  },
  {
   "cell_type":"code",
   "source":[
    "from numpy.random import randn"
   ],
   "execution_count":2,
   "outputs":[
    
   ],
   "metadata":{
    "datalore":{
     "node_id":"8Ub1gBqktk8g4W0py3DTS4",
     "type":"CODE",
     "hide_input_from_viewers":true,
     "hide_output_from_viewers":true
    }
   }
  },
  {
   "cell_type":"code",
   "source":[
    "np.random.seed(101)"
   ],
   "execution_count":3,
   "outputs":[
    
   ],
   "metadata":{
    "datalore":{
     "node_id":"Fg5SLQ5wMFLg7XhrL1hmFI",
     "type":"CODE",
     "hide_input_from_viewers":true,
     "hide_output_from_viewers":true
    }
   }
  },
  {
   "cell_type":"code",
   "source":[
    "df = pd.DataFrame(randn(5,4), ['A', 'B', 'C', 'D', 'E'], ['W', 'X', 'Y', 'Z'])"
   ],
   "execution_count":4,
   "outputs":[
    
   ],
   "metadata":{
    "datalore":{
     "node_id":"FrvBuhL0Ri2VTiJDz8Mcsw",
     "type":"CODE",
     "hide_input_from_viewers":true,
     "hide_output_from_viewers":true
    }
   }
  },
  {
   "cell_type":"code",
   "source":[
    "df"
   ],
   "execution_count":5,
   "outputs":[
    {
     "data":{
      "text\/html":[
       "<div>\n",
       "<style scoped>\n",
       "    .dataframe tbody tr th:only-of-type {\n",
       "        vertical-align: middle;\n",
       "    }\n",
       "\n",
       "    .dataframe tbody tr th {\n",
       "        vertical-align: top;\n",
       "    }\n",
       "\n",
       "    .dataframe thead th {\n",
       "        text-align: right;\n",
       "    }\n",
       "<\/style>\n",
       "<table border=\"1\" class=\"dataframe\">\n",
       "  <thead>\n",
       "    <tr style=\"text-align: right;\">\n",
       "      <th><\/th>\n",
       "      <th>W<\/th>\n",
       "      <th>X<\/th>\n",
       "      <th>Y<\/th>\n",
       "      <th>Z<\/th>\n",
       "    <\/tr>\n",
       "  <\/thead>\n",
       "  <tbody>\n",
       "    <tr>\n",
       "      <th>A<\/th>\n",
       "      <td>2.706850<\/td>\n",
       "      <td>0.628133<\/td>\n",
       "      <td>0.907969<\/td>\n",
       "      <td>0.503826<\/td>\n",
       "    <\/tr>\n",
       "    <tr>\n",
       "      <th>B<\/th>\n",
       "      <td>0.651118<\/td>\n",
       "      <td>-0.319318<\/td>\n",
       "      <td>-0.848077<\/td>\n",
       "      <td>0.605965<\/td>\n",
       "    <\/tr>\n",
       "    <tr>\n",
       "      <th>C<\/th>\n",
       "      <td>-2.018168<\/td>\n",
       "      <td>0.740122<\/td>\n",
       "      <td>0.528813<\/td>\n",
       "      <td>-0.589001<\/td>\n",
       "    <\/tr>\n",
       "    <tr>\n",
       "      <th>D<\/th>\n",
       "      <td>0.188695<\/td>\n",
       "      <td>-0.758872<\/td>\n",
       "      <td>-0.933237<\/td>\n",
       "      <td>0.955057<\/td>\n",
       "    <\/tr>\n",
       "    <tr>\n",
       "      <th>E<\/th>\n",
       "      <td>0.190794<\/td>\n",
       "      <td>1.978757<\/td>\n",
       "      <td>2.605967<\/td>\n",
       "      <td>0.683509<\/td>\n",
       "    <\/tr>\n",
       "  <\/tbody>\n",
       "<\/table>\n",
       "<\/div>"
      ]
     },
     "metadata":{
      
     },
     "output_type":"display_data"
    }
   ],
   "metadata":{
    "datalore":{
     "node_id":"BLn7ogEiL8g84UppwcsLlj",
     "type":"CODE",
     "hide_input_from_viewers":true,
     "hide_output_from_viewers":true
    }
   }
  },
  {
   "cell_type":"code",
   "source":[
    "df > 0"
   ],
   "execution_count":6,
   "outputs":[
    {
     "data":{
      "text\/html":[
       "<div>\n",
       "<style scoped>\n",
       "    .dataframe tbody tr th:only-of-type {\n",
       "        vertical-align: middle;\n",
       "    }\n",
       "\n",
       "    .dataframe tbody tr th {\n",
       "        vertical-align: top;\n",
       "    }\n",
       "\n",
       "    .dataframe thead th {\n",
       "        text-align: right;\n",
       "    }\n",
       "<\/style>\n",
       "<table border=\"1\" class=\"dataframe\">\n",
       "  <thead>\n",
       "    <tr style=\"text-align: right;\">\n",
       "      <th><\/th>\n",
       "      <th>W<\/th>\n",
       "      <th>X<\/th>\n",
       "      <th>Y<\/th>\n",
       "      <th>Z<\/th>\n",
       "    <\/tr>\n",
       "  <\/thead>\n",
       "  <tbody>\n",
       "    <tr>\n",
       "      <th>A<\/th>\n",
       "      <td>True<\/td>\n",
       "      <td>True<\/td>\n",
       "      <td>True<\/td>\n",
       "      <td>True<\/td>\n",
       "    <\/tr>\n",
       "    <tr>\n",
       "      <th>B<\/th>\n",
       "      <td>True<\/td>\n",
       "      <td>False<\/td>\n",
       "      <td>False<\/td>\n",
       "      <td>True<\/td>\n",
       "    <\/tr>\n",
       "    <tr>\n",
       "      <th>C<\/th>\n",
       "      <td>False<\/td>\n",
       "      <td>True<\/td>\n",
       "      <td>True<\/td>\n",
       "      <td>False<\/td>\n",
       "    <\/tr>\n",
       "    <tr>\n",
       "      <th>D<\/th>\n",
       "      <td>True<\/td>\n",
       "      <td>False<\/td>\n",
       "      <td>False<\/td>\n",
       "      <td>True<\/td>\n",
       "    <\/tr>\n",
       "    <tr>\n",
       "      <th>E<\/th>\n",
       "      <td>True<\/td>\n",
       "      <td>True<\/td>\n",
       "      <td>True<\/td>\n",
       "      <td>True<\/td>\n",
       "    <\/tr>\n",
       "  <\/tbody>\n",
       "<\/table>\n",
       "<\/div>"
      ]
     },
     "metadata":{
      
     },
     "output_type":"display_data"
    }
   ],
   "metadata":{
    "datalore":{
     "node_id":"2cdMgDezXxIHLW7RN64tFb",
     "type":"CODE",
     "hide_input_from_viewers":true,
     "hide_output_from_viewers":true
    }
   }
  },
  {
   "cell_type":"code",
   "source":[
    "booldf = df > 0"
   ],
   "execution_count":7,
   "outputs":[
    
   ],
   "metadata":{
    "datalore":{
     "node_id":"3klYO57LKdLc2Xspt9XpUe",
     "type":"CODE",
     "hide_input_from_viewers":true,
     "hide_output_from_viewers":true
    }
   }
  },
  {
   "cell_type":"code",
   "source":[
    "booldf"
   ],
   "execution_count":8,
   "outputs":[
    {
     "data":{
      "text\/html":[
       "<div>\n",
       "<style scoped>\n",
       "    .dataframe tbody tr th:only-of-type {\n",
       "        vertical-align: middle;\n",
       "    }\n",
       "\n",
       "    .dataframe tbody tr th {\n",
       "        vertical-align: top;\n",
       "    }\n",
       "\n",
       "    .dataframe thead th {\n",
       "        text-align: right;\n",
       "    }\n",
       "<\/style>\n",
       "<table border=\"1\" class=\"dataframe\">\n",
       "  <thead>\n",
       "    <tr style=\"text-align: right;\">\n",
       "      <th><\/th>\n",
       "      <th>W<\/th>\n",
       "      <th>X<\/th>\n",
       "      <th>Y<\/th>\n",
       "      <th>Z<\/th>\n",
       "    <\/tr>\n",
       "  <\/thead>\n",
       "  <tbody>\n",
       "    <tr>\n",
       "      <th>A<\/th>\n",
       "      <td>True<\/td>\n",
       "      <td>True<\/td>\n",
       "      <td>True<\/td>\n",
       "      <td>True<\/td>\n",
       "    <\/tr>\n",
       "    <tr>\n",
       "      <th>B<\/th>\n",
       "      <td>True<\/td>\n",
       "      <td>False<\/td>\n",
       "      <td>False<\/td>\n",
       "      <td>True<\/td>\n",
       "    <\/tr>\n",
       "    <tr>\n",
       "      <th>C<\/th>\n",
       "      <td>False<\/td>\n",
       "      <td>True<\/td>\n",
       "      <td>True<\/td>\n",
       "      <td>False<\/td>\n",
       "    <\/tr>\n",
       "    <tr>\n",
       "      <th>D<\/th>\n",
       "      <td>True<\/td>\n",
       "      <td>False<\/td>\n",
       "      <td>False<\/td>\n",
       "      <td>True<\/td>\n",
       "    <\/tr>\n",
       "    <tr>\n",
       "      <th>E<\/th>\n",
       "      <td>True<\/td>\n",
       "      <td>True<\/td>\n",
       "      <td>True<\/td>\n",
       "      <td>True<\/td>\n",
       "    <\/tr>\n",
       "  <\/tbody>\n",
       "<\/table>\n",
       "<\/div>"
      ]
     },
     "metadata":{
      
     },
     "output_type":"display_data"
    }
   ],
   "metadata":{
    "datalore":{
     "node_id":"l9aAPlfgP2fsdSLkBtzrnP",
     "type":"CODE",
     "hide_input_from_viewers":true,
     "hide_output_from_viewers":true
    }
   }
  },
  {
   "cell_type":"code",
   "source":[
    "df[booldf]"
   ],
   "execution_count":9,
   "outputs":[
    {
     "data":{
      "text\/html":[
       "<div>\n",
       "<style scoped>\n",
       "    .dataframe tbody tr th:only-of-type {\n",
       "        vertical-align: middle;\n",
       "    }\n",
       "\n",
       "    .dataframe tbody tr th {\n",
       "        vertical-align: top;\n",
       "    }\n",
       "\n",
       "    .dataframe thead th {\n",
       "        text-align: right;\n",
       "    }\n",
       "<\/style>\n",
       "<table border=\"1\" class=\"dataframe\">\n",
       "  <thead>\n",
       "    <tr style=\"text-align: right;\">\n",
       "      <th><\/th>\n",
       "      <th>W<\/th>\n",
       "      <th>X<\/th>\n",
       "      <th>Y<\/th>\n",
       "      <th>Z<\/th>\n",
       "    <\/tr>\n",
       "  <\/thead>\n",
       "  <tbody>\n",
       "    <tr>\n",
       "      <th>A<\/th>\n",
       "      <td>2.706850<\/td>\n",
       "      <td>0.628133<\/td>\n",
       "      <td>0.907969<\/td>\n",
       "      <td>0.503826<\/td>\n",
       "    <\/tr>\n",
       "    <tr>\n",
       "      <th>B<\/th>\n",
       "      <td>0.651118<\/td>\n",
       "      <td>NaN<\/td>\n",
       "      <td>NaN<\/td>\n",
       "      <td>0.605965<\/td>\n",
       "    <\/tr>\n",
       "    <tr>\n",
       "      <th>C<\/th>\n",
       "      <td>NaN<\/td>\n",
       "      <td>0.740122<\/td>\n",
       "      <td>0.528813<\/td>\n",
       "      <td>NaN<\/td>\n",
       "    <\/tr>\n",
       "    <tr>\n",
       "      <th>D<\/th>\n",
       "      <td>0.188695<\/td>\n",
       "      <td>NaN<\/td>\n",
       "      <td>NaN<\/td>\n",
       "      <td>0.955057<\/td>\n",
       "    <\/tr>\n",
       "    <tr>\n",
       "      <th>E<\/th>\n",
       "      <td>0.190794<\/td>\n",
       "      <td>1.978757<\/td>\n",
       "      <td>2.605967<\/td>\n",
       "      <td>0.683509<\/td>\n",
       "    <\/tr>\n",
       "  <\/tbody>\n",
       "<\/table>\n",
       "<\/div>"
      ]
     },
     "metadata":{
      
     },
     "output_type":"display_data"
    }
   ],
   "metadata":{
    "datalore":{
     "node_id":"t89xKsSeRtiC5vRGOxXo9M",
     "type":"CODE",
     "hide_input_from_viewers":true,
     "hide_output_from_viewers":true
    }
   }
  },
  {
   "cell_type":"code",
   "source":[
    "df[df>0]"
   ],
   "execution_count":10,
   "outputs":[
    {
     "data":{
      "text\/html":[
       "<div>\n",
       "<style scoped>\n",
       "    .dataframe tbody tr th:only-of-type {\n",
       "        vertical-align: middle;\n",
       "    }\n",
       "\n",
       "    .dataframe tbody tr th {\n",
       "        vertical-align: top;\n",
       "    }\n",
       "\n",
       "    .dataframe thead th {\n",
       "        text-align: right;\n",
       "    }\n",
       "<\/style>\n",
       "<table border=\"1\" class=\"dataframe\">\n",
       "  <thead>\n",
       "    <tr style=\"text-align: right;\">\n",
       "      <th><\/th>\n",
       "      <th>W<\/th>\n",
       "      <th>X<\/th>\n",
       "      <th>Y<\/th>\n",
       "      <th>Z<\/th>\n",
       "    <\/tr>\n",
       "  <\/thead>\n",
       "  <tbody>\n",
       "    <tr>\n",
       "      <th>A<\/th>\n",
       "      <td>2.706850<\/td>\n",
       "      <td>0.628133<\/td>\n",
       "      <td>0.907969<\/td>\n",
       "      <td>0.503826<\/td>\n",
       "    <\/tr>\n",
       "    <tr>\n",
       "      <th>B<\/th>\n",
       "      <td>0.651118<\/td>\n",
       "      <td>NaN<\/td>\n",
       "      <td>NaN<\/td>\n",
       "      <td>0.605965<\/td>\n",
       "    <\/tr>\n",
       "    <tr>\n",
       "      <th>C<\/th>\n",
       "      <td>NaN<\/td>\n",
       "      <td>0.740122<\/td>\n",
       "      <td>0.528813<\/td>\n",
       "      <td>NaN<\/td>\n",
       "    <\/tr>\n",
       "    <tr>\n",
       "      <th>D<\/th>\n",
       "      <td>0.188695<\/td>\n",
       "      <td>NaN<\/td>\n",
       "      <td>NaN<\/td>\n",
       "      <td>0.955057<\/td>\n",
       "    <\/tr>\n",
       "    <tr>\n",
       "      <th>E<\/th>\n",
       "      <td>0.190794<\/td>\n",
       "      <td>1.978757<\/td>\n",
       "      <td>2.605967<\/td>\n",
       "      <td>0.683509<\/td>\n",
       "    <\/tr>\n",
       "  <\/tbody>\n",
       "<\/table>\n",
       "<\/div>"
      ]
     },
     "metadata":{
      
     },
     "output_type":"display_data"
    }
   ],
   "metadata":{
    "datalore":{
     "node_id":"BHgKgKM49dLOnG5XogFlbp",
     "type":"CODE",
     "hide_input_from_viewers":true,
     "hide_output_from_viewers":true
    }
   }
  },
  {
   "cell_type":"code",
   "source":[
    "df"
   ],
   "execution_count":11,
   "outputs":[
    {
     "data":{
      "text\/html":[
       "<div>\n",
       "<style scoped>\n",
       "    .dataframe tbody tr th:only-of-type {\n",
       "        vertical-align: middle;\n",
       "    }\n",
       "\n",
       "    .dataframe tbody tr th {\n",
       "        vertical-align: top;\n",
       "    }\n",
       "\n",
       "    .dataframe thead th {\n",
       "        text-align: right;\n",
       "    }\n",
       "<\/style>\n",
       "<table border=\"1\" class=\"dataframe\">\n",
       "  <thead>\n",
       "    <tr style=\"text-align: right;\">\n",
       "      <th><\/th>\n",
       "      <th>W<\/th>\n",
       "      <th>X<\/th>\n",
       "      <th>Y<\/th>\n",
       "      <th>Z<\/th>\n",
       "    <\/tr>\n",
       "  <\/thead>\n",
       "  <tbody>\n",
       "    <tr>\n",
       "      <th>A<\/th>\n",
       "      <td>2.706850<\/td>\n",
       "      <td>0.628133<\/td>\n",
       "      <td>0.907969<\/td>\n",
       "      <td>0.503826<\/td>\n",
       "    <\/tr>\n",
       "    <tr>\n",
       "      <th>B<\/th>\n",
       "      <td>0.651118<\/td>\n",
       "      <td>-0.319318<\/td>\n",
       "      <td>-0.848077<\/td>\n",
       "      <td>0.605965<\/td>\n",
       "    <\/tr>\n",
       "    <tr>\n",
       "      <th>C<\/th>\n",
       "      <td>-2.018168<\/td>\n",
       "      <td>0.740122<\/td>\n",
       "      <td>0.528813<\/td>\n",
       "      <td>-0.589001<\/td>\n",
       "    <\/tr>\n",
       "    <tr>\n",
       "      <th>D<\/th>\n",
       "      <td>0.188695<\/td>\n",
       "      <td>-0.758872<\/td>\n",
       "      <td>-0.933237<\/td>\n",
       "      <td>0.955057<\/td>\n",
       "    <\/tr>\n",
       "    <tr>\n",
       "      <th>E<\/th>\n",
       "      <td>0.190794<\/td>\n",
       "      <td>1.978757<\/td>\n",
       "      <td>2.605967<\/td>\n",
       "      <td>0.683509<\/td>\n",
       "    <\/tr>\n",
       "  <\/tbody>\n",
       "<\/table>\n",
       "<\/div>"
      ]
     },
     "metadata":{
      
     },
     "output_type":"display_data"
    }
   ],
   "metadata":{
    "datalore":{
     "node_id":"EpjzG1lUg2bKDqDJvRX3vK",
     "type":"CODE",
     "hide_input_from_viewers":true,
     "hide_output_from_viewers":true
    }
   }
  },
  {
   "cell_type":"code",
   "source":[
    "df['W']>0"
   ],
   "execution_count":12,
   "outputs":[
    {
     "data":{
      "text\/html":[
       "<pre>A     True\n",
       "B     True\n",
       "C    False\n",
       "D     True\n",
       "E     True\n",
       "Name: W, dtype: bool<\/pre>"
      ]
     },
     "metadata":{
      
     },
     "output_type":"display_data"
    }
   ],
   "metadata":{
    "datalore":{
     "node_id":"3bqv3WJCDt31pIY6GCOzbq",
     "type":"CODE",
     "hide_input_from_viewers":true,
     "hide_output_from_viewers":true
    }
   }
  },
  {
   "cell_type":"code",
   "source":[
    "df['W']"
   ],
   "execution_count":13,
   "outputs":[
    {
     "data":{
      "text\/html":[
       "<pre>A    2.706850\n",
       "B    0.651118\n",
       "C   -2.018168\n",
       "D    0.188695\n",
       "E    0.190794\n",
       "Name: W, dtype: float64<\/pre>"
      ]
     },
     "metadata":{
      
     },
     "output_type":"display_data"
    }
   ],
   "metadata":{
    "datalore":{
     "node_id":"EZojBHKpidvPva7dBDLotV",
     "type":"CODE",
     "hide_input_from_viewers":true,
     "hide_output_from_viewers":true
    }
   }
  },
  {
   "cell_type":"code",
   "source":[
    "df[df['W']>0]"
   ],
   "execution_count":14,
   "outputs":[
    {
     "data":{
      "text\/html":[
       "<div>\n",
       "<style scoped>\n",
       "    .dataframe tbody tr th:only-of-type {\n",
       "        vertical-align: middle;\n",
       "    }\n",
       "\n",
       "    .dataframe tbody tr th {\n",
       "        vertical-align: top;\n",
       "    }\n",
       "\n",
       "    .dataframe thead th {\n",
       "        text-align: right;\n",
       "    }\n",
       "<\/style>\n",
       "<table border=\"1\" class=\"dataframe\">\n",
       "  <thead>\n",
       "    <tr style=\"text-align: right;\">\n",
       "      <th><\/th>\n",
       "      <th>W<\/th>\n",
       "      <th>X<\/th>\n",
       "      <th>Y<\/th>\n",
       "      <th>Z<\/th>\n",
       "    <\/tr>\n",
       "  <\/thead>\n",
       "  <tbody>\n",
       "    <tr>\n",
       "      <th>A<\/th>\n",
       "      <td>2.706850<\/td>\n",
       "      <td>0.628133<\/td>\n",
       "      <td>0.907969<\/td>\n",
       "      <td>0.503826<\/td>\n",
       "    <\/tr>\n",
       "    <tr>\n",
       "      <th>B<\/th>\n",
       "      <td>0.651118<\/td>\n",
       "      <td>-0.319318<\/td>\n",
       "      <td>-0.848077<\/td>\n",
       "      <td>0.605965<\/td>\n",
       "    <\/tr>\n",
       "    <tr>\n",
       "      <th>D<\/th>\n",
       "      <td>0.188695<\/td>\n",
       "      <td>-0.758872<\/td>\n",
       "      <td>-0.933237<\/td>\n",
       "      <td>0.955057<\/td>\n",
       "    <\/tr>\n",
       "    <tr>\n",
       "      <th>E<\/th>\n",
       "      <td>0.190794<\/td>\n",
       "      <td>1.978757<\/td>\n",
       "      <td>2.605967<\/td>\n",
       "      <td>0.683509<\/td>\n",
       "    <\/tr>\n",
       "  <\/tbody>\n",
       "<\/table>\n",
       "<\/div>"
      ]
     },
     "metadata":{
      
     },
     "output_type":"display_data"
    }
   ],
   "metadata":{
    "datalore":{
     "node_id":"QUZc99Gbu1w1Wjs3P1wuFg",
     "type":"CODE",
     "hide_input_from_viewers":true,
     "hide_output_from_viewers":true
    }
   }
  },
  {
   "cell_type":"code",
   "source":[
    "df[df['Z']<0]"
   ],
   "execution_count":15,
   "outputs":[
    {
     "data":{
      "text\/html":[
       "<div>\n",
       "<style scoped>\n",
       "    .dataframe tbody tr th:only-of-type {\n",
       "        vertical-align: middle;\n",
       "    }\n",
       "\n",
       "    .dataframe tbody tr th {\n",
       "        vertical-align: top;\n",
       "    }\n",
       "\n",
       "    .dataframe thead th {\n",
       "        text-align: right;\n",
       "    }\n",
       "<\/style>\n",
       "<table border=\"1\" class=\"dataframe\">\n",
       "  <thead>\n",
       "    <tr style=\"text-align: right;\">\n",
       "      <th><\/th>\n",
       "      <th>W<\/th>\n",
       "      <th>X<\/th>\n",
       "      <th>Y<\/th>\n",
       "      <th>Z<\/th>\n",
       "    <\/tr>\n",
       "  <\/thead>\n",
       "  <tbody>\n",
       "    <tr>\n",
       "      <th>C<\/th>\n",
       "      <td>-2.018168<\/td>\n",
       "      <td>0.740122<\/td>\n",
       "      <td>0.528813<\/td>\n",
       "      <td>-0.589001<\/td>\n",
       "    <\/tr>\n",
       "  <\/tbody>\n",
       "<\/table>\n",
       "<\/div>"
      ]
     },
     "metadata":{
      
     },
     "output_type":"display_data"
    }
   ],
   "metadata":{
    "datalore":{
     "node_id":"8NRBX0oef1Q7m50ZQvuX9X",
     "type":"CODE",
     "hide_input_from_viewers":true,
     "hide_output_from_viewers":true
    }
   }
  },
  {
   "cell_type":"code",
   "source":[
    "result_df = df[df['W']>0]"
   ],
   "execution_count":16,
   "outputs":[
    
   ],
   "metadata":{
    "datalore":{
     "node_id":"WYuREyyPDOM2VX2YmZJJiP",
     "type":"CODE",
     "hide_input_from_viewers":true,
     "hide_output_from_viewers":true
    }
   }
  },
  {
   "cell_type":"code",
   "source":[
    "result_df"
   ],
   "execution_count":18,
   "outputs":[
    {
     "data":{
      "text\/html":[
       "<div>\n",
       "<style scoped>\n",
       "    .dataframe tbody tr th:only-of-type {\n",
       "        vertical-align: middle;\n",
       "    }\n",
       "\n",
       "    .dataframe tbody tr th {\n",
       "        vertical-align: top;\n",
       "    }\n",
       "\n",
       "    .dataframe thead th {\n",
       "        text-align: right;\n",
       "    }\n",
       "<\/style>\n",
       "<table border=\"1\" class=\"dataframe\">\n",
       "  <thead>\n",
       "    <tr style=\"text-align: right;\">\n",
       "      <th><\/th>\n",
       "      <th>W<\/th>\n",
       "      <th>X<\/th>\n",
       "      <th>Y<\/th>\n",
       "      <th>Z<\/th>\n",
       "    <\/tr>\n",
       "  <\/thead>\n",
       "  <tbody>\n",
       "    <tr>\n",
       "      <th>A<\/th>\n",
       "      <td>2.706850<\/td>\n",
       "      <td>0.628133<\/td>\n",
       "      <td>0.907969<\/td>\n",
       "      <td>0.503826<\/td>\n",
       "    <\/tr>\n",
       "    <tr>\n",
       "      <th>B<\/th>\n",
       "      <td>0.651118<\/td>\n",
       "      <td>-0.319318<\/td>\n",
       "      <td>-0.848077<\/td>\n",
       "      <td>0.605965<\/td>\n",
       "    <\/tr>\n",
       "    <tr>\n",
       "      <th>D<\/th>\n",
       "      <td>0.188695<\/td>\n",
       "      <td>-0.758872<\/td>\n",
       "      <td>-0.933237<\/td>\n",
       "      <td>0.955057<\/td>\n",
       "    <\/tr>\n",
       "    <tr>\n",
       "      <th>E<\/th>\n",
       "      <td>0.190794<\/td>\n",
       "      <td>1.978757<\/td>\n",
       "      <td>2.605967<\/td>\n",
       "      <td>0.683509<\/td>\n",
       "    <\/tr>\n",
       "  <\/tbody>\n",
       "<\/table>\n",
       "<\/div>"
      ]
     },
     "metadata":{
      
     },
     "output_type":"display_data"
    }
   ],
   "metadata":{
    "datalore":{
     "node_id":"XfMd4BY6xvxnyeJp11Avf2",
     "type":"CODE",
     "hide_input_from_viewers":true,
     "hide_output_from_viewers":true
    }
   }
  },
  {
   "cell_type":"code",
   "source":[
    "result_df['X']"
   ],
   "execution_count":19,
   "outputs":[
    {
     "data":{
      "text\/html":[
       "<pre>A    0.628133\n",
       "B   -0.319318\n",
       "D   -0.758872\n",
       "E    1.978757\n",
       "Name: X, dtype: float64<\/pre>"
      ]
     },
     "metadata":{
      
     },
     "output_type":"display_data"
    }
   ],
   "metadata":{
    "datalore":{
     "node_id":"fCknSycgyc2KmtcaB9AfpZ",
     "type":"CODE",
     "hide_input_from_viewers":true,
     "hide_output_from_viewers":true
    }
   }
  },
  {
   "cell_type":"code",
   "source":[
    "df[df['W']>0]['X']"
   ],
   "execution_count":20,
   "outputs":[
    {
     "data":{
      "text\/html":[
       "<pre>A    0.628133\n",
       "B   -0.319318\n",
       "D   -0.758872\n",
       "E    1.978757\n",
       "Name: X, dtype: float64<\/pre>"
      ]
     },
     "metadata":{
      
     },
     "output_type":"display_data"
    }
   ],
   "metadata":{
    "datalore":{
     "node_id":"cN0ezN75XLS05jnDIvHqBI",
     "type":"CODE",
     "hide_input_from_viewers":true,
     "hide_output_from_viewers":true
    }
   }
  },
  {
   "cell_type":"code",
   "source":[
    "df[df['W']>0][['Y','X']]"
   ],
   "execution_count":22,
   "outputs":[
    {
     "data":{
      "text\/html":[
       "<div>\n",
       "<style scoped>\n",
       "    .dataframe tbody tr th:only-of-type {\n",
       "        vertical-align: middle;\n",
       "    }\n",
       "\n",
       "    .dataframe tbody tr th {\n",
       "        vertical-align: top;\n",
       "    }\n",
       "\n",
       "    .dataframe thead th {\n",
       "        text-align: right;\n",
       "    }\n",
       "<\/style>\n",
       "<table border=\"1\" class=\"dataframe\">\n",
       "  <thead>\n",
       "    <tr style=\"text-align: right;\">\n",
       "      <th><\/th>\n",
       "      <th>Y<\/th>\n",
       "      <th>X<\/th>\n",
       "    <\/tr>\n",
       "  <\/thead>\n",
       "  <tbody>\n",
       "    <tr>\n",
       "      <th>A<\/th>\n",
       "      <td>0.907969<\/td>\n",
       "      <td>0.628133<\/td>\n",
       "    <\/tr>\n",
       "    <tr>\n",
       "      <th>B<\/th>\n",
       "      <td>-0.848077<\/td>\n",
       "      <td>-0.319318<\/td>\n",
       "    <\/tr>\n",
       "    <tr>\n",
       "      <th>D<\/th>\n",
       "      <td>-0.933237<\/td>\n",
       "      <td>-0.758872<\/td>\n",
       "    <\/tr>\n",
       "    <tr>\n",
       "      <th>E<\/th>\n",
       "      <td>2.605967<\/td>\n",
       "      <td>1.978757<\/td>\n",
       "    <\/tr>\n",
       "  <\/tbody>\n",
       "<\/table>\n",
       "<\/div>"
      ]
     },
     "metadata":{
      
     },
     "output_type":"display_data"
    }
   ],
   "metadata":{
    "datalore":{
     "node_id":"IsNhtSYNJoEWDlmnjDpBrt",
     "type":"CODE",
     "hide_input_from_viewers":true,
     "hide_output_from_viewers":true
    }
   }
  },
  {
   "cell_type":"code",
   "source":[
    "boolser = df['W']>0\n",
    "result = df[boolser]\n",
    "mycols = ['Y', 'X']\n",
    "result[mycols]"
   ],
   "execution_count":23,
   "outputs":[
    {
     "data":{
      "text\/html":[
       "<div>\n",
       "<style scoped>\n",
       "    .dataframe tbody tr th:only-of-type {\n",
       "        vertical-align: middle;\n",
       "    }\n",
       "\n",
       "    .dataframe tbody tr th {\n",
       "        vertical-align: top;\n",
       "    }\n",
       "\n",
       "    .dataframe thead th {\n",
       "        text-align: right;\n",
       "    }\n",
       "<\/style>\n",
       "<table border=\"1\" class=\"dataframe\">\n",
       "  <thead>\n",
       "    <tr style=\"text-align: right;\">\n",
       "      <th><\/th>\n",
       "      <th>Y<\/th>\n",
       "      <th>X<\/th>\n",
       "    <\/tr>\n",
       "  <\/thead>\n",
       "  <tbody>\n",
       "    <tr>\n",
       "      <th>A<\/th>\n",
       "      <td>0.907969<\/td>\n",
       "      <td>0.628133<\/td>\n",
       "    <\/tr>\n",
       "    <tr>\n",
       "      <th>B<\/th>\n",
       "      <td>-0.848077<\/td>\n",
       "      <td>-0.319318<\/td>\n",
       "    <\/tr>\n",
       "    <tr>\n",
       "      <th>D<\/th>\n",
       "      <td>-0.933237<\/td>\n",
       "      <td>-0.758872<\/td>\n",
       "    <\/tr>\n",
       "    <tr>\n",
       "      <th>E<\/th>\n",
       "      <td>2.605967<\/td>\n",
       "      <td>1.978757<\/td>\n",
       "    <\/tr>\n",
       "  <\/tbody>\n",
       "<\/table>\n",
       "<\/div>"
      ]
     },
     "metadata":{
      
     },
     "output_type":"display_data"
    }
   ],
   "metadata":{
    "datalore":{
     "node_id":"7H1c4A2qDmxHAJzGCBHwJ8",
     "type":"CODE",
     "hide_input_from_viewers":true,
     "hide_output_from_viewers":true
    }
   }
  },
  {
   "cell_type":"code",
   "source":[
    "df[(df['W']>0) & (df['Y']>1)]"
   ],
   "execution_count":24,
   "outputs":[
    {
     "data":{
      "text\/html":[
       "<div>\n",
       "<style scoped>\n",
       "    .dataframe tbody tr th:only-of-type {\n",
       "        vertical-align: middle;\n",
       "    }\n",
       "\n",
       "    .dataframe tbody tr th {\n",
       "        vertical-align: top;\n",
       "    }\n",
       "\n",
       "    .dataframe thead th {\n",
       "        text-align: right;\n",
       "    }\n",
       "<\/style>\n",
       "<table border=\"1\" class=\"dataframe\">\n",
       "  <thead>\n",
       "    <tr style=\"text-align: right;\">\n",
       "      <th><\/th>\n",
       "      <th>W<\/th>\n",
       "      <th>X<\/th>\n",
       "      <th>Y<\/th>\n",
       "      <th>Z<\/th>\n",
       "    <\/tr>\n",
       "  <\/thead>\n",
       "  <tbody>\n",
       "    <tr>\n",
       "      <th>E<\/th>\n",
       "      <td>0.190794<\/td>\n",
       "      <td>1.978757<\/td>\n",
       "      <td>2.605967<\/td>\n",
       "      <td>0.683509<\/td>\n",
       "    <\/tr>\n",
       "  <\/tbody>\n",
       "<\/table>\n",
       "<\/div>"
      ]
     },
     "metadata":{
      
     },
     "output_type":"display_data"
    }
   ],
   "metadata":{
    "datalore":{
     "node_id":"bRQ7NcnupxpWH9t7yU6UQH",
     "type":"CODE",
     "hide_input_from_viewers":true,
     "hide_output_from_viewers":true
    }
   }
  },
  {
   "cell_type":"code",
   "source":[
    "df[(df['W']>0) | (df['Y']>1)]"
   ],
   "execution_count":25,
   "outputs":[
    {
     "data":{
      "text\/html":[
       "<div>\n",
       "<style scoped>\n",
       "    .dataframe tbody tr th:only-of-type {\n",
       "        vertical-align: middle;\n",
       "    }\n",
       "\n",
       "    .dataframe tbody tr th {\n",
       "        vertical-align: top;\n",
       "    }\n",
       "\n",
       "    .dataframe thead th {\n",
       "        text-align: right;\n",
       "    }\n",
       "<\/style>\n",
       "<table border=\"1\" class=\"dataframe\">\n",
       "  <thead>\n",
       "    <tr style=\"text-align: right;\">\n",
       "      <th><\/th>\n",
       "      <th>W<\/th>\n",
       "      <th>X<\/th>\n",
       "      <th>Y<\/th>\n",
       "      <th>Z<\/th>\n",
       "    <\/tr>\n",
       "  <\/thead>\n",
       "  <tbody>\n",
       "    <tr>\n",
       "      <th>A<\/th>\n",
       "      <td>2.706850<\/td>\n",
       "      <td>0.628133<\/td>\n",
       "      <td>0.907969<\/td>\n",
       "      <td>0.503826<\/td>\n",
       "    <\/tr>\n",
       "    <tr>\n",
       "      <th>B<\/th>\n",
       "      <td>0.651118<\/td>\n",
       "      <td>-0.319318<\/td>\n",
       "      <td>-0.848077<\/td>\n",
       "      <td>0.605965<\/td>\n",
       "    <\/tr>\n",
       "    <tr>\n",
       "      <th>D<\/th>\n",
       "      <td>0.188695<\/td>\n",
       "      <td>-0.758872<\/td>\n",
       "      <td>-0.933237<\/td>\n",
       "      <td>0.955057<\/td>\n",
       "    <\/tr>\n",
       "    <tr>\n",
       "      <th>E<\/th>\n",
       "      <td>0.190794<\/td>\n",
       "      <td>1.978757<\/td>\n",
       "      <td>2.605967<\/td>\n",
       "      <td>0.683509<\/td>\n",
       "    <\/tr>\n",
       "  <\/tbody>\n",
       "<\/table>\n",
       "<\/div>"
      ]
     },
     "metadata":{
      
     },
     "output_type":"display_data"
    }
   ],
   "metadata":{
    "datalore":{
     "node_id":"XtEhQY0dl8AX4EdMUkltEc",
     "type":"CODE",
     "hide_input_from_viewers":true,
     "hide_output_from_viewers":true
    }
   }
  },
  {
   "cell_type":"code",
   "source":[
    "df"
   ],
   "execution_count":26,
   "outputs":[
    {
     "data":{
      "text\/html":[
       "<div>\n",
       "<style scoped>\n",
       "    .dataframe tbody tr th:only-of-type {\n",
       "        vertical-align: middle;\n",
       "    }\n",
       "\n",
       "    .dataframe tbody tr th {\n",
       "        vertical-align: top;\n",
       "    }\n",
       "\n",
       "    .dataframe thead th {\n",
       "        text-align: right;\n",
       "    }\n",
       "<\/style>\n",
       "<table border=\"1\" class=\"dataframe\">\n",
       "  <thead>\n",
       "    <tr style=\"text-align: right;\">\n",
       "      <th><\/th>\n",
       "      <th>W<\/th>\n",
       "      <th>X<\/th>\n",
       "      <th>Y<\/th>\n",
       "      <th>Z<\/th>\n",
       "    <\/tr>\n",
       "  <\/thead>\n",
       "  <tbody>\n",
       "    <tr>\n",
       "      <th>A<\/th>\n",
       "      <td>2.706850<\/td>\n",
       "      <td>0.628133<\/td>\n",
       "      <td>0.907969<\/td>\n",
       "      <td>0.503826<\/td>\n",
       "    <\/tr>\n",
       "    <tr>\n",
       "      <th>B<\/th>\n",
       "      <td>0.651118<\/td>\n",
       "      <td>-0.319318<\/td>\n",
       "      <td>-0.848077<\/td>\n",
       "      <td>0.605965<\/td>\n",
       "    <\/tr>\n",
       "    <tr>\n",
       "      <th>C<\/th>\n",
       "      <td>-2.018168<\/td>\n",
       "      <td>0.740122<\/td>\n",
       "      <td>0.528813<\/td>\n",
       "      <td>-0.589001<\/td>\n",
       "    <\/tr>\n",
       "    <tr>\n",
       "      <th>D<\/th>\n",
       "      <td>0.188695<\/td>\n",
       "      <td>-0.758872<\/td>\n",
       "      <td>-0.933237<\/td>\n",
       "      <td>0.955057<\/td>\n",
       "    <\/tr>\n",
       "    <tr>\n",
       "      <th>E<\/th>\n",
       "      <td>0.190794<\/td>\n",
       "      <td>1.978757<\/td>\n",
       "      <td>2.605967<\/td>\n",
       "      <td>0.683509<\/td>\n",
       "    <\/tr>\n",
       "  <\/tbody>\n",
       "<\/table>\n",
       "<\/div>"
      ]
     },
     "metadata":{
      
     },
     "output_type":"display_data"
    }
   ],
   "metadata":{
    "datalore":{
     "node_id":"XkwxyYo5600qgT28XLDeEo",
     "type":"CODE",
     "hide_input_from_viewers":true,
     "hide_output_from_viewers":true
    }
   }
  },
  {
   "cell_type":"code",
   "source":[
    "df.reset_index()"
   ],
   "execution_count":27,
   "outputs":[
    {
     "data":{
      "text\/html":[
       "<div>\n",
       "<style scoped>\n",
       "    .dataframe tbody tr th:only-of-type {\n",
       "        vertical-align: middle;\n",
       "    }\n",
       "\n",
       "    .dataframe tbody tr th {\n",
       "        vertical-align: top;\n",
       "    }\n",
       "\n",
       "    .dataframe thead th {\n",
       "        text-align: right;\n",
       "    }\n",
       "<\/style>\n",
       "<table border=\"1\" class=\"dataframe\">\n",
       "  <thead>\n",
       "    <tr style=\"text-align: right;\">\n",
       "      <th><\/th>\n",
       "      <th>index<\/th>\n",
       "      <th>W<\/th>\n",
       "      <th>X<\/th>\n",
       "      <th>Y<\/th>\n",
       "      <th>Z<\/th>\n",
       "    <\/tr>\n",
       "  <\/thead>\n",
       "  <tbody>\n",
       "    <tr>\n",
       "      <th>0<\/th>\n",
       "      <td>A<\/td>\n",
       "      <td>2.706850<\/td>\n",
       "      <td>0.628133<\/td>\n",
       "      <td>0.907969<\/td>\n",
       "      <td>0.503826<\/td>\n",
       "    <\/tr>\n",
       "    <tr>\n",
       "      <th>1<\/th>\n",
       "      <td>B<\/td>\n",
       "      <td>0.651118<\/td>\n",
       "      <td>-0.319318<\/td>\n",
       "      <td>-0.848077<\/td>\n",
       "      <td>0.605965<\/td>\n",
       "    <\/tr>\n",
       "    <tr>\n",
       "      <th>2<\/th>\n",
       "      <td>C<\/td>\n",
       "      <td>-2.018168<\/td>\n",
       "      <td>0.740122<\/td>\n",
       "      <td>0.528813<\/td>\n",
       "      <td>-0.589001<\/td>\n",
       "    <\/tr>\n",
       "    <tr>\n",
       "      <th>3<\/th>\n",
       "      <td>D<\/td>\n",
       "      <td>0.188695<\/td>\n",
       "      <td>-0.758872<\/td>\n",
       "      <td>-0.933237<\/td>\n",
       "      <td>0.955057<\/td>\n",
       "    <\/tr>\n",
       "    <tr>\n",
       "      <th>4<\/th>\n",
       "      <td>E<\/td>\n",
       "      <td>0.190794<\/td>\n",
       "      <td>1.978757<\/td>\n",
       "      <td>2.605967<\/td>\n",
       "      <td>0.683509<\/td>\n",
       "    <\/tr>\n",
       "  <\/tbody>\n",
       "<\/table>\n",
       "<\/div>"
      ]
     },
     "metadata":{
      
     },
     "output_type":"display_data"
    }
   ],
   "metadata":{
    "datalore":{
     "node_id":"mSJFN9pt2putPh6WJmIzWZ",
     "type":"CODE",
     "hide_input_from_viewers":true,
     "hide_output_from_viewers":true
    }
   }
  },
  {
   "cell_type":"code",
   "source":[
    "newind = 'CA NY WY OR CO'.split()"
   ],
   "execution_count":28,
   "outputs":[
    
   ],
   "metadata":{
    "datalore":{
     "node_id":"AOqGPn1K5yU1CIJuvD0xco",
     "type":"CODE",
     "hide_input_from_viewers":true,
     "hide_output_from_viewers":true
    }
   }
  },
  {
   "cell_type":"code",
   "source":[
    "newind"
   ],
   "execution_count":29,
   "outputs":[
    {
     "data":{
      "text\/plain":[
       "['CA', 'NY', 'WY', 'OR', 'CO']"
      ]
     },
     "metadata":{
      
     },
     "output_type":"display_data"
    }
   ],
   "metadata":{
    "datalore":{
     "node_id":"s2OY3BK1weo0QA6vUPk7MI",
     "type":"CODE",
     "hide_input_from_viewers":true,
     "hide_output_from_viewers":true
    }
   }
  },
  {
   "cell_type":"code",
   "source":[
    "df['States'] = newind"
   ],
   "execution_count":30,
   "outputs":[
    
   ],
   "metadata":{
    "datalore":{
     "node_id":"aBTYK8tqKbTcc9bMqaHZ50",
     "type":"CODE",
     "hide_input_from_viewers":true,
     "hide_output_from_viewers":true
    }
   }
  },
  {
   "cell_type":"code",
   "source":[
    "df"
   ],
   "execution_count":31,
   "outputs":[
    {
     "data":{
      "text\/html":[
       "<div>\n",
       "<style scoped>\n",
       "    .dataframe tbody tr th:only-of-type {\n",
       "        vertical-align: middle;\n",
       "    }\n",
       "\n",
       "    .dataframe tbody tr th {\n",
       "        vertical-align: top;\n",
       "    }\n",
       "\n",
       "    .dataframe thead th {\n",
       "        text-align: right;\n",
       "    }\n",
       "<\/style>\n",
       "<table border=\"1\" class=\"dataframe\">\n",
       "  <thead>\n",
       "    <tr style=\"text-align: right;\">\n",
       "      <th><\/th>\n",
       "      <th>W<\/th>\n",
       "      <th>X<\/th>\n",
       "      <th>Y<\/th>\n",
       "      <th>Z<\/th>\n",
       "      <th>States<\/th>\n",
       "    <\/tr>\n",
       "  <\/thead>\n",
       "  <tbody>\n",
       "    <tr>\n",
       "      <th>A<\/th>\n",
       "      <td>2.706850<\/td>\n",
       "      <td>0.628133<\/td>\n",
       "      <td>0.907969<\/td>\n",
       "      <td>0.503826<\/td>\n",
       "      <td>CA<\/td>\n",
       "    <\/tr>\n",
       "    <tr>\n",
       "      <th>B<\/th>\n",
       "      <td>0.651118<\/td>\n",
       "      <td>-0.319318<\/td>\n",
       "      <td>-0.848077<\/td>\n",
       "      <td>0.605965<\/td>\n",
       "      <td>NY<\/td>\n",
       "    <\/tr>\n",
       "    <tr>\n",
       "      <th>C<\/th>\n",
       "      <td>-2.018168<\/td>\n",
       "      <td>0.740122<\/td>\n",
       "      <td>0.528813<\/td>\n",
       "      <td>-0.589001<\/td>\n",
       "      <td>WY<\/td>\n",
       "    <\/tr>\n",
       "    <tr>\n",
       "      <th>D<\/th>\n",
       "      <td>0.188695<\/td>\n",
       "      <td>-0.758872<\/td>\n",
       "      <td>-0.933237<\/td>\n",
       "      <td>0.955057<\/td>\n",
       "      <td>OR<\/td>\n",
       "    <\/tr>\n",
       "    <tr>\n",
       "      <th>E<\/th>\n",
       "      <td>0.190794<\/td>\n",
       "      <td>1.978757<\/td>\n",
       "      <td>2.605967<\/td>\n",
       "      <td>0.683509<\/td>\n",
       "      <td>CO<\/td>\n",
       "    <\/tr>\n",
       "  <\/tbody>\n",
       "<\/table>\n",
       "<\/div>"
      ]
     },
     "metadata":{
      
     },
     "output_type":"display_data"
    }
   ],
   "metadata":{
    "datalore":{
     "node_id":"cg0nU70Ri29a4Hx74VYC1s",
     "type":"CODE",
     "hide_input_from_viewers":true,
     "hide_output_from_viewers":true
    }
   }
  },
  {
   "cell_type":"code",
   "source":[
    "df.set_index('States')"
   ],
   "execution_count":32,
   "outputs":[
    {
     "data":{
      "text\/html":[
       "<div>\n",
       "<style scoped>\n",
       "    .dataframe tbody tr th:only-of-type {\n",
       "        vertical-align: middle;\n",
       "    }\n",
       "\n",
       "    .dataframe tbody tr th {\n",
       "        vertical-align: top;\n",
       "    }\n",
       "\n",
       "    .dataframe thead th {\n",
       "        text-align: right;\n",
       "    }\n",
       "<\/style>\n",
       "<table border=\"1\" class=\"dataframe\">\n",
       "  <thead>\n",
       "    <tr style=\"text-align: right;\">\n",
       "      <th><\/th>\n",
       "      <th>W<\/th>\n",
       "      <th>X<\/th>\n",
       "      <th>Y<\/th>\n",
       "      <th>Z<\/th>\n",
       "    <\/tr>\n",
       "    <tr>\n",
       "      <th>States<\/th>\n",
       "      <th><\/th>\n",
       "      <th><\/th>\n",
       "      <th><\/th>\n",
       "      <th><\/th>\n",
       "    <\/tr>\n",
       "  <\/thead>\n",
       "  <tbody>\n",
       "    <tr>\n",
       "      <th>CA<\/th>\n",
       "      <td>2.706850<\/td>\n",
       "      <td>0.628133<\/td>\n",
       "      <td>0.907969<\/td>\n",
       "      <td>0.503826<\/td>\n",
       "    <\/tr>\n",
       "    <tr>\n",
       "      <th>NY<\/th>\n",
       "      <td>0.651118<\/td>\n",
       "      <td>-0.319318<\/td>\n",
       "      <td>-0.848077<\/td>\n",
       "      <td>0.605965<\/td>\n",
       "    <\/tr>\n",
       "    <tr>\n",
       "      <th>WY<\/th>\n",
       "      <td>-2.018168<\/td>\n",
       "      <td>0.740122<\/td>\n",
       "      <td>0.528813<\/td>\n",
       "      <td>-0.589001<\/td>\n",
       "    <\/tr>\n",
       "    <tr>\n",
       "      <th>OR<\/th>\n",
       "      <td>0.188695<\/td>\n",
       "      <td>-0.758872<\/td>\n",
       "      <td>-0.933237<\/td>\n",
       "      <td>0.955057<\/td>\n",
       "    <\/tr>\n",
       "    <tr>\n",
       "      <th>CO<\/th>\n",
       "      <td>0.190794<\/td>\n",
       "      <td>1.978757<\/td>\n",
       "      <td>2.605967<\/td>\n",
       "      <td>0.683509<\/td>\n",
       "    <\/tr>\n",
       "  <\/tbody>\n",
       "<\/table>\n",
       "<\/div>"
      ]
     },
     "metadata":{
      
     },
     "output_type":"display_data"
    }
   ],
   "metadata":{
    "datalore":{
     "node_id":"Xae6uGnHxtVh5Nx7Nrid2m",
     "type":"CODE",
     "hide_input_from_viewers":true,
     "hide_output_from_viewers":true
    }
   }
  },
  {
   "cell_type":"code",
   "source":[
    
   ],
   "execution_count":null,
   "outputs":[
    
   ],
   "metadata":{
    "datalore":{
     "node_id":"sZUbVlkU96u1MdI2z8LWmq",
     "type":"CODE",
     "hide_input_from_viewers":true,
     "hide_output_from_viewers":true
    }
   }
  },
  {
   "cell_type":"code",
   "source":[
    
   ],
   "execution_count":null,
   "outputs":[
    
   ],
   "metadata":{
    "datalore":{
     "node_id":"cxlIpwLHZlOSszlZ2r5upk",
     "type":"CODE",
     "hide_input_from_viewers":true,
     "hide_output_from_viewers":true
    }
   }
  }
 ],
 "metadata":{
  "kernelspec":{
   "display_name":"Python",
   "language":"python",
   "name":"python"
  },
  "datalore":{
   "computation_mode":"JUPYTER",
   "package_manager":"pip",
   "base_environment":"default",
   "packages":[
    
   ],
   "report_row_ids":[
    
   ],
   "version":3
  }
 },
 "nbformat":4,
 "nbformat_minor":4
}