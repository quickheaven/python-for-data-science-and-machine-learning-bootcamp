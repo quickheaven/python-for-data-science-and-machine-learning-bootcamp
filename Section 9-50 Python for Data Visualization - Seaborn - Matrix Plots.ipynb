{
 "cells":[
  {
   "cell_type":"code",
   "source":[
    "import seaborn as sns\n",
    "%matplotlib inline\n",
    "tips = sns.load_dataset('tips')\n",
    "flights = sns.load_dataset('flights')\n",
    "tips.head()"
   ],
   "execution_count":2,
   "outputs":[
    {
     "data":{
      "text\/html":[
       "<div>\n",
       "<style scoped>\n",
       "    .dataframe tbody tr th:only-of-type {\n",
       "        vertical-align: middle;\n",
       "    }\n",
       "\n",
       "    .dataframe tbody tr th {\n",
       "        vertical-align: top;\n",
       "    }\n",
       "\n",
       "    .dataframe thead th {\n",
       "        text-align: right;\n",
       "    }\n",
       "<\/style>\n",
       "<table border=\"1\" class=\"dataframe\">\n",
       "  <thead>\n",
       "    <tr style=\"text-align: right;\">\n",
       "      <th><\/th>\n",
       "      <th>total_bill<\/th>\n",
       "      <th>tip<\/th>\n",
       "      <th>sex<\/th>\n",
       "      <th>smoker<\/th>\n",
       "      <th>day<\/th>\n",
       "      <th>time<\/th>\n",
       "      <th>size<\/th>\n",
       "    <\/tr>\n",
       "  <\/thead>\n",
       "  <tbody>\n",
       "    <tr>\n",
       "      <th>0<\/th>\n",
       "      <td>16.99<\/td>\n",
       "      <td>1.01<\/td>\n",
       "      <td>Female<\/td>\n",
       "      <td>No<\/td>\n",
       "      <td>Sun<\/td>\n",
       "      <td>Dinner<\/td>\n",
       "      <td>2<\/td>\n",
       "    <\/tr>\n",
       "    <tr>\n",
       "      <th>1<\/th>\n",
       "      <td>10.34<\/td>\n",
       "      <td>1.66<\/td>\n",
       "      <td>Male<\/td>\n",
       "      <td>No<\/td>\n",
       "      <td>Sun<\/td>\n",
       "      <td>Dinner<\/td>\n",
       "      <td>3<\/td>\n",
       "    <\/tr>\n",
       "    <tr>\n",
       "      <th>2<\/th>\n",
       "      <td>21.01<\/td>\n",
       "      <td>3.50<\/td>\n",
       "      <td>Male<\/td>\n",
       "      <td>No<\/td>\n",
       "      <td>Sun<\/td>\n",
       "      <td>Dinner<\/td>\n",
       "      <td>3<\/td>\n",
       "    <\/tr>\n",
       "    <tr>\n",
       "      <th>3<\/th>\n",
       "      <td>23.68<\/td>\n",
       "      <td>3.31<\/td>\n",
       "      <td>Male<\/td>\n",
       "      <td>No<\/td>\n",
       "      <td>Sun<\/td>\n",
       "      <td>Dinner<\/td>\n",
       "      <td>2<\/td>\n",
       "    <\/tr>\n",
       "    <tr>\n",
       "      <th>4<\/th>\n",
       "      <td>24.59<\/td>\n",
       "      <td>3.61<\/td>\n",
       "      <td>Female<\/td>\n",
       "      <td>No<\/td>\n",
       "      <td>Sun<\/td>\n",
       "      <td>Dinner<\/td>\n",
       "      <td>4<\/td>\n",
       "    <\/tr>\n",
       "  <\/tbody>\n",
       "<\/table>\n",
       "<\/div>"
      ]
     },
     "metadata":{
      
     },
     "output_type":"display_data"
    }
   ],
   "metadata":{
    "datalore":{
     "node_id":"qaP5ibyFdm4zUeGurLMzWg",
     "type":"CODE",
     "hide_input_from_viewers":true,
     "hide_output_from_viewers":true
    }
   }
  },
  {
   "cell_type":"code",
   "source":[
    "flights.head()"
   ],
   "execution_count":3,
   "outputs":[
    {
     "data":{
      "text\/html":[
       "<div>\n",
       "<style scoped>\n",
       "    .dataframe tbody tr th:only-of-type {\n",
       "        vertical-align: middle;\n",
       "    }\n",
       "\n",
       "    .dataframe tbody tr th {\n",
       "        vertical-align: top;\n",
       "    }\n",
       "\n",
       "    .dataframe thead th {\n",
       "        text-align: right;\n",
       "    }\n",
       "<\/style>\n",
       "<table border=\"1\" class=\"dataframe\">\n",
       "  <thead>\n",
       "    <tr style=\"text-align: right;\">\n",
       "      <th><\/th>\n",
       "      <th>year<\/th>\n",
       "      <th>month<\/th>\n",
       "      <th>passengers<\/th>\n",
       "    <\/tr>\n",
       "  <\/thead>\n",
       "  <tbody>\n",
       "    <tr>\n",
       "      <th>0<\/th>\n",
       "      <td>1949<\/td>\n",
       "      <td>Jan<\/td>\n",
       "      <td>112<\/td>\n",
       "    <\/tr>\n",
       "    <tr>\n",
       "      <th>1<\/th>\n",
       "      <td>1949<\/td>\n",
       "      <td>Feb<\/td>\n",
       "      <td>118<\/td>\n",
       "    <\/tr>\n",
       "    <tr>\n",
       "      <th>2<\/th>\n",
       "      <td>1949<\/td>\n",
       "      <td>Mar<\/td>\n",
       "      <td>132<\/td>\n",
       "    <\/tr>\n",
       "    <tr>\n",
       "      <th>3<\/th>\n",
       "      <td>1949<\/td>\n",
       "      <td>Apr<\/td>\n",
       "      <td>129<\/td>\n",
       "    <\/tr>\n",
       "    <tr>\n",
       "      <th>4<\/th>\n",
       "      <td>1949<\/td>\n",
       "      <td>May<\/td>\n",
       "      <td>121<\/td>\n",
       "    <\/tr>\n",
       "  <\/tbody>\n",
       "<\/table>\n",
       "<\/div>"
      ]
     },
     "metadata":{
      
     },
     "output_type":"display_data"
    }
   ],
   "metadata":{
    "datalore":{
     "node_id":"W5Vgpk2SLeIbP4y0HdjPqg",
     "type":"CODE",
     "hide_input_from_viewers":true,
     "hide_output_from_viewers":true
    }
   }
  },
  {
   "cell_type":"code",
   "source":[
    "tc = tips.corr()\n",
    "tc"
   ],
   "execution_count":5,
   "outputs":[
    {
     "data":{
      "text\/html":[
       "<div>\n",
       "<style scoped>\n",
       "    .dataframe tbody tr th:only-of-type {\n",
       "        vertical-align: middle;\n",
       "    }\n",
       "\n",
       "    .dataframe tbody tr th {\n",
       "        vertical-align: top;\n",
       "    }\n",
       "\n",
       "    .dataframe thead th {\n",
       "        text-align: right;\n",
       "    }\n",
       "<\/style>\n",
       "<table border=\"1\" class=\"dataframe\">\n",
       "  <thead>\n",
       "    <tr style=\"text-align: right;\">\n",
       "      <th><\/th>\n",
       "      <th>total_bill<\/th>\n",
       "      <th>tip<\/th>\n",
       "      <th>size<\/th>\n",
       "    <\/tr>\n",
       "  <\/thead>\n",
       "  <tbody>\n",
       "    <tr>\n",
       "      <th>total_bill<\/th>\n",
       "      <td>1.000000<\/td>\n",
       "      <td>0.675734<\/td>\n",
       "      <td>0.598315<\/td>\n",
       "    <\/tr>\n",
       "    <tr>\n",
       "      <th>tip<\/th>\n",
       "      <td>0.675734<\/td>\n",
       "      <td>1.000000<\/td>\n",
       "      <td>0.489299<\/td>\n",
       "    <\/tr>\n",
       "    <tr>\n",
       "      <th>size<\/th>\n",
       "      <td>0.598315<\/td>\n",
       "      <td>0.489299<\/td>\n",
       "      <td>1.000000<\/td>\n",
       "    <\/tr>\n",
       "  <\/tbody>\n",
       "<\/table>\n",
       "<\/div>"
      ]
     },
     "metadata":{
      
     },
     "output_type":"display_data"
    }
   ],
   "metadata":{
    "datalore":{
     "node_id":"B4OLPSQ5LhhbRpVWDSRYce",
     "type":"CODE",
     "hide_input_from_viewers":true,
     "hide_output_from_viewers":true
    }
   }
  },
  {
   "cell_type":"code",
   "source":[
    "sns.heatmap(tc)"
   ],
   "execution_count":6,
   "outputs":[
    {
     "data":{
      "text\/plain":[
       "<AxesSubplot:>"
      ]
     },
     "metadata":{
      
     },
     "output_type":"display_data"
    },
    {
     "data":{
      "image\/png":"[encoded data removed]"
     },
     "metadata":{
      "image\/png":{
       
      }
     },
     "output_type":"display_data"
    }
   ],
   "metadata":{
    "datalore":{
     "node_id":"AJmCiaCLLpM3WlPgQvMyYt",
     "type":"CODE",
     "hide_input_from_viewers":true,
     "hide_output_from_viewers":true
    }
   }
  },
  {
   "cell_type":"code",
   "source":[
    "sns.heatmap(tc, annot=True)"
   ],
   "execution_count":7,
   "outputs":[
    {
     "data":{
      "text\/plain":[
       "<AxesSubplot:>"
      ]
     },
     "metadata":{
      
     },
     "output_type":"display_data"
    },
    {
     "data":{
      "image\/png":"[encoded data removed]"
     },
     "metadata":{
      "image\/png":{
       
      }
     },
     "output_type":"display_data"
    }
   ],
   "metadata":{
    "datalore":{
     "node_id":"OmulTeP1QK1SAMA0EZnrBb",
     "type":"CODE",
     "hide_input_from_viewers":true,
     "hide_output_from_viewers":true
    }
   }
  },
  {
   "cell_type":"code",
   "source":[
    "sns.heatmap(tc, annot=True, cmap='coolwarm')"
   ],
   "execution_count":8,
   "outputs":[
    {
     "data":{
      "text\/plain":[
       "<AxesSubplot:>"
      ]
     },
     "metadata":{
      
     },
     "output_type":"display_data"
    },
    {
     "data":{
      "image\/png":"[encoded data removed]"
     },
     "metadata":{
      "image\/png":{
       
      }
     },
     "output_type":"display_data"
    }
   ],
   "metadata":{
    "datalore":{
     "node_id":"ApM5A5tL18PHqqsQHdm4vK",
     "type":"CODE",
     "hide_input_from_viewers":true,
     "hide_output_from_viewers":true
    }
   }
  },
  {
   "cell_type":"code",
   "source":[
    "fp = flights.pivot_table(index='month', columns='year', values='passengers')\n",
    "fp"
   ],
   "execution_count":11,
   "outputs":[
    {
     "data":{
      "text\/html":[
       "<div>\n",
       "<style scoped>\n",
       "    .dataframe tbody tr th:only-of-type {\n",
       "        vertical-align: middle;\n",
       "    }\n",
       "\n",
       "    .dataframe tbody tr th {\n",
       "        vertical-align: top;\n",
       "    }\n",
       "\n",
       "    .dataframe thead th {\n",
       "        text-align: right;\n",
       "    }\n",
       "<\/style>\n",
       "<table border=\"1\" class=\"dataframe\">\n",
       "  <thead>\n",
       "    <tr style=\"text-align: right;\">\n",
       "      <th>year<\/th>\n",
       "      <th>1949<\/th>\n",
       "      <th>1950<\/th>\n",
       "      <th>1951<\/th>\n",
       "      <th>1952<\/th>\n",
       "      <th>1953<\/th>\n",
       "      <th>1954<\/th>\n",
       "      <th>1955<\/th>\n",
       "      <th>1956<\/th>\n",
       "      <th>1957<\/th>\n",
       "      <th>1958<\/th>\n",
       "      <th>1959<\/th>\n",
       "      <th>1960<\/th>\n",
       "    <\/tr>\n",
       "    <tr>\n",
       "      <th>month<\/th>\n",
       "      <th><\/th>\n",
       "      <th><\/th>\n",
       "      <th><\/th>\n",
       "      <th><\/th>\n",
       "      <th><\/th>\n",
       "      <th><\/th>\n",
       "      <th><\/th>\n",
       "      <th><\/th>\n",
       "      <th><\/th>\n",
       "      <th><\/th>\n",
       "      <th><\/th>\n",
       "      <th><\/th>\n",
       "    <\/tr>\n",
       "  <\/thead>\n",
       "  <tbody>\n",
       "    <tr>\n",
       "      <th>Jan<\/th>\n",
       "      <td>112<\/td>\n",
       "      <td>115<\/td>\n",
       "      <td>145<\/td>\n",
       "      <td>171<\/td>\n",
       "      <td>196<\/td>\n",
       "      <td>204<\/td>\n",
       "      <td>242<\/td>\n",
       "      <td>284<\/td>\n",
       "      <td>315<\/td>\n",
       "      <td>340<\/td>\n",
       "      <td>360<\/td>\n",
       "      <td>417<\/td>\n",
       "    <\/tr>\n",
       "    <tr>\n",
       "      <th>Feb<\/th>\n",
       "      <td>118<\/td>\n",
       "      <td>126<\/td>\n",
       "      <td>150<\/td>\n",
       "      <td>180<\/td>\n",
       "      <td>196<\/td>\n",
       "      <td>188<\/td>\n",
       "      <td>233<\/td>\n",
       "      <td>277<\/td>\n",
       "      <td>301<\/td>\n",
       "      <td>318<\/td>\n",
       "      <td>342<\/td>\n",
       "      <td>391<\/td>\n",
       "    <\/tr>\n",
       "    <tr>\n",
       "      <th>Mar<\/th>\n",
       "      <td>132<\/td>\n",
       "      <td>141<\/td>\n",
       "      <td>178<\/td>\n",
       "      <td>193<\/td>\n",
       "      <td>236<\/td>\n",
       "      <td>235<\/td>\n",
       "      <td>267<\/td>\n",
       "      <td>317<\/td>\n",
       "      <td>356<\/td>\n",
       "      <td>362<\/td>\n",
       "      <td>406<\/td>\n",
       "      <td>419<\/td>\n",
       "    <\/tr>\n",
       "    <tr>\n",
       "      <th>Apr<\/th>\n",
       "      <td>129<\/td>\n",
       "      <td>135<\/td>\n",
       "      <td>163<\/td>\n",
       "      <td>181<\/td>\n",
       "      <td>235<\/td>\n",
       "      <td>227<\/td>\n",
       "      <td>269<\/td>\n",
       "      <td>313<\/td>\n",
       "      <td>348<\/td>\n",
       "      <td>348<\/td>\n",
       "      <td>396<\/td>\n",
       "      <td>461<\/td>\n",
       "    <\/tr>\n",
       "    <tr>\n",
       "      <th>May<\/th>\n",
       "      <td>121<\/td>\n",
       "      <td>125<\/td>\n",
       "      <td>172<\/td>\n",
       "      <td>183<\/td>\n",
       "      <td>229<\/td>\n",
       "      <td>234<\/td>\n",
       "      <td>270<\/td>\n",
       "      <td>318<\/td>\n",
       "      <td>355<\/td>\n",
       "      <td>363<\/td>\n",
       "      <td>420<\/td>\n",
       "      <td>472<\/td>\n",
       "    <\/tr>\n",
       "    <tr>\n",
       "      <th>Jun<\/th>\n",
       "      <td>135<\/td>\n",
       "      <td>149<\/td>\n",
       "      <td>178<\/td>\n",
       "      <td>218<\/td>\n",
       "      <td>243<\/td>\n",
       "      <td>264<\/td>\n",
       "      <td>315<\/td>\n",
       "      <td>374<\/td>\n",
       "      <td>422<\/td>\n",
       "      <td>435<\/td>\n",
       "      <td>472<\/td>\n",
       "      <td>535<\/td>\n",
       "    <\/tr>\n",
       "    <tr>\n",
       "      <th>Jul<\/th>\n",
       "      <td>148<\/td>\n",
       "      <td>170<\/td>\n",
       "      <td>199<\/td>\n",
       "      <td>230<\/td>\n",
       "      <td>264<\/td>\n",
       "      <td>302<\/td>\n",
       "      <td>364<\/td>\n",
       "      <td>413<\/td>\n",
       "      <td>465<\/td>\n",
       "      <td>491<\/td>\n",
       "      <td>548<\/td>\n",
       "      <td>622<\/td>\n",
       "    <\/tr>\n",
       "    <tr>\n",
       "      <th>Aug<\/th>\n",
       "      <td>148<\/td>\n",
       "      <td>170<\/td>\n",
       "      <td>199<\/td>\n",
       "      <td>242<\/td>\n",
       "      <td>272<\/td>\n",
       "      <td>293<\/td>\n",
       "      <td>347<\/td>\n",
       "      <td>405<\/td>\n",
       "      <td>467<\/td>\n",
       "      <td>505<\/td>\n",
       "      <td>559<\/td>\n",
       "      <td>606<\/td>\n",
       "    <\/tr>\n",
       "    <tr>\n",
       "      <th>Sep<\/th>\n",
       "      <td>136<\/td>\n",
       "      <td>158<\/td>\n",
       "      <td>184<\/td>\n",
       "      <td>209<\/td>\n",
       "      <td>237<\/td>\n",
       "      <td>259<\/td>\n",
       "      <td>312<\/td>\n",
       "      <td>355<\/td>\n",
       "      <td>404<\/td>\n",
       "      <td>404<\/td>\n",
       "      <td>463<\/td>\n",
       "      <td>508<\/td>\n",
       "    <\/tr>\n",
       "    <tr>\n",
       "      <th>Oct<\/th>\n",
       "      <td>119<\/td>\n",
       "      <td>133<\/td>\n",
       "      <td>162<\/td>\n",
       "      <td>191<\/td>\n",
       "      <td>211<\/td>\n",
       "      <td>229<\/td>\n",
       "      <td>274<\/td>\n",
       "      <td>306<\/td>\n",
       "      <td>347<\/td>\n",
       "      <td>359<\/td>\n",
       "      <td>407<\/td>\n",
       "      <td>461<\/td>\n",
       "    <\/tr>\n",
       "    <tr>\n",
       "      <th>Nov<\/th>\n",
       "      <td>104<\/td>\n",
       "      <td>114<\/td>\n",
       "      <td>146<\/td>\n",
       "      <td>172<\/td>\n",
       "      <td>180<\/td>\n",
       "      <td>203<\/td>\n",
       "      <td>237<\/td>\n",
       "      <td>271<\/td>\n",
       "      <td>305<\/td>\n",
       "      <td>310<\/td>\n",
       "      <td>362<\/td>\n",
       "      <td>390<\/td>\n",
       "    <\/tr>\n",
       "    <tr>\n",
       "      <th>Dec<\/th>\n",
       "      <td>118<\/td>\n",
       "      <td>140<\/td>\n",
       "      <td>166<\/td>\n",
       "      <td>194<\/td>\n",
       "      <td>201<\/td>\n",
       "      <td>229<\/td>\n",
       "      <td>278<\/td>\n",
       "      <td>306<\/td>\n",
       "      <td>336<\/td>\n",
       "      <td>337<\/td>\n",
       "      <td>405<\/td>\n",
       "      <td>432<\/td>\n",
       "    <\/tr>\n",
       "  <\/tbody>\n",
       "<\/table>\n",
       "<\/div>"
      ]
     },
     "metadata":{
      
     },
     "output_type":"display_data"
    }
   ],
   "metadata":{
    "datalore":{
     "node_id":"FPCri30VLszeAFvjmR8aa7",
     "type":"CODE",
     "hide_input_from_viewers":true,
     "hide_output_from_viewers":true
    }
   }
  },
  {
   "cell_type":"code",
   "source":[
    "sns.heatmap(fp)"
   ],
   "execution_count":12,
   "outputs":[
    {
     "data":{
      "text\/plain":[
       "<AxesSubplot:xlabel='year', ylabel='month'>"
      ]
     },
     "metadata":{
      
     },
     "output_type":"display_data"
    },
    {
     "data":{
      "image\/png":"[encoded data removed]"
     },
     "metadata":{
      "image\/png":{
       
      }
     },
     "output_type":"display_data"
    }
   ],
   "metadata":{
    "datalore":{
     "node_id":"5WzTuRLVmiJoAr6aQdbcAo",
     "type":"CODE",
     "hide_input_from_viewers":true,
     "hide_output_from_viewers":true
    }
   }
  },
  {
   "cell_type":"code",
   "source":[
    "sns.heatmap(fp, cmap='magma', linecolor='white', linewidths=1)"
   ],
   "execution_count":14,
   "outputs":[
    {
     "data":{
      "text\/plain":[
       "<AxesSubplot:xlabel='year', ylabel='month'>"
      ]
     },
     "metadata":{
      
     },
     "output_type":"display_data"
    },
    {
     "data":{
      "image\/png":"[encoded data removed]"
     },
     "metadata":{
      "image\/png":{
       
      }
     },
     "output_type":"display_data"
    }
   ],
   "metadata":{
    "datalore":{
     "node_id":"2YUgpq8sPVRpfJrU0xYGBZ",
     "type":"CODE",
     "hide_input_from_viewers":true,
     "hide_output_from_viewers":true
    }
   }
  },
  {
   "cell_type":"code",
   "source":[
    "sns.heatmap(fp, cmap='magma', linecolor='white', linewidths=3)"
   ],
   "execution_count":15,
   "outputs":[
    {
     "data":{
      "text\/plain":[
       "<AxesSubplot:xlabel='year', ylabel='month'>"
      ]
     },
     "metadata":{
      
     },
     "output_type":"display_data"
    },
    {
     "data":{
      "image\/png":"[encoded data removed]"
     },
     "metadata":{
      "image\/png":{
       
      }
     },
     "output_type":"display_data"
    }
   ],
   "metadata":{
    "datalore":{
     "node_id":"O6zD1dV5Zer3TdyEkfiUjZ",
     "type":"CODE",
     "hide_input_from_viewers":true,
     "hide_output_from_viewers":true
    }
   }
  },
  {
   "cell_type":"code",
   "source":[
    "sns.heatmap(fp, cmap='coolwarm', linecolor='black', linewidths=3)"
   ],
   "execution_count":16,
   "outputs":[
    {
     "data":{
      "text\/plain":[
       "<AxesSubplot:xlabel='year', ylabel='month'>"
      ]
     },
     "metadata":{
      
     },
     "output_type":"display_data"
    },
    {
     "data":{
      "image\/png":"[encoded data removed]"
     },
     "metadata":{
      "image\/png":{
       
      }
     },
     "output_type":"display_data"
    }
   ],
   "metadata":{
    "datalore":{
     "node_id":"FUkJ9ebpvU7jVLiRz6fguW",
     "type":"CODE",
     "hide_input_from_viewers":true,
     "hide_output_from_viewers":true
    }
   }
  },
  {
   "cell_type":"code",
   "source":[
    "sns.clustermap(fp)"
   ],
   "execution_count":17,
   "outputs":[
    {
     "data":{
      "text\/plain":[
       "<seaborn.matrix.ClusterGrid at 0x7f22a492a3d0>"
      ]
     },
     "metadata":{
      
     },
     "output_type":"display_data"
    },
    {
     "data":{
      "image\/png":"[encoded data removed]"
     },
     "metadata":{
      "image\/png":{
       
      }
     },
     "output_type":"display_data"
    }
   ],
   "metadata":{
    "datalore":{
     "node_id":"JHSV86bK2f1gEL7D9oKYf6",
     "type":"CODE",
     "hide_input_from_viewers":true,
     "hide_output_from_viewers":true
    }
   }
  },
  {
   "cell_type":"code",
   "source":[
    "sns.clustermap(fp, cmap='coolwarm')"
   ],
   "execution_count":18,
   "outputs":[
    {
     "data":{
      "text\/plain":[
       "<seaborn.matrix.ClusterGrid at 0x7f22a405ec70>"
      ]
     },
     "metadata":{
      
     },
     "output_type":"display_data"
    },
    {
     "data":{
      "image\/png":"[encoded data removed]"
     },
     "metadata":{
      "image\/png":{
       
      }
     },
     "output_type":"display_data"
    }
   ],
   "metadata":{
    "datalore":{
     "node_id":"9920MA1DbS09cglAcYhkpi",
     "type":"CODE",
     "hide_input_from_viewers":true,
     "hide_output_from_viewers":true
    }
   }
  },
  {
   "cell_type":"code",
   "source":[
    "sns.clustermap(fp, cmap='coolwarm', standard_scale=1)"
   ],
   "execution_count":19,
   "outputs":[
    {
     "data":{
      "text\/plain":[
       "<seaborn.matrix.ClusterGrid at 0x7f229d8f66d0>"
      ]
     },
     "metadata":{
      
     },
     "output_type":"display_data"
    },
    {
     "data":{
      "image\/png":"[encoded data removed]"
     },
     "metadata":{
      "image\/png":{
       
      }
     },
     "output_type":"display_data"
    }
   ],
   "metadata":{
    "datalore":{
     "node_id":"j8BTs5gfmJnysR6irw2Vvi",
     "type":"CODE",
     "hide_input_from_viewers":true,
     "hide_output_from_viewers":true
    }
   }
  },
  {
   "cell_type":"code",
   "source":[
    
   ],
   "execution_count":null,
   "outputs":[
    
   ],
   "metadata":{
    "datalore":{
     "node_id":"WAhAxAJn0bn9bh1nrhuCW1",
     "type":"CODE",
     "hide_input_from_viewers":true,
     "hide_output_from_viewers":true
    }
   }
  }
 ],
 "metadata":{
  "kernelspec":{
   "display_name":"Python",
   "language":"python",
   "name":"python"
  },
  "datalore":{
   "computation_mode":"JUPYTER",
   "package_manager":"pip",
   "base_environment":"default",
   "packages":[
    
   ],
   "report_row_ids":[
    
   ],
   "version":3
  }
 },
 "nbformat":4,
 "nbformat_minor":4
}